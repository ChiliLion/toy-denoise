{
 "cells": [
  {
   "cell_type": "code",
   "execution_count": 2,
   "metadata": {},
   "outputs": [],
   "source": [
    "import matplotlib.pyplot as plt\n",
    "import numpy as np\n",
    "import pandas as pd\n",
    "import tensorflow as tf\n",
    "import pickle as pk\n",
    "import os\n",
    "\n",
    "from sklearn.metrics import accuracy_score, precision_score, recall_score\n",
    "from sklearn.model_selection import train_test_split\n",
    "from keras import layers, losses\n",
    "from keras.datasets import fashion_mnist\n",
    "from keras.models import Model"
   ]
  },
  {
   "cell_type": "code",
   "execution_count": 20,
   "metadata": {},
   "outputs": [
    {
     "name": "stdout",
     "output_type": "stream",
     "text": [
      "e:\\personalprojects\\toy-denoise\n",
      "e:\\personalprojects\\toy-denoise\\dataset\\cifar-10-python\\cifar-10-batches-py\n",
      "dict_keys([b'batch_label', b'labels', b'data', b'filenames'])\n",
      "10000\n"
     ]
    }
   ],
   "source": [
    "def unpickle(file):\n",
    "    with open(file, 'rb') as fo:\n",
    "        dict = pk.load(fo, encoding='bytes')\n",
    "    return dict\n",
    "basefolder = os.path.dirname(os.getcwd())\n",
    "print(basefolder)\n",
    "datafolder = os.path.join(basefolder, \"dataset\\cifar-10-python\\cifar-10-batches-py\")\n",
    "print(datafolder)\n",
    "data1 = unpickle(os.path.join(datafolder, \"data_batch_1\"))\n",
    "print(data1.keys())\n",
    "print(len(data1[b'filenames']))"
   ]
  }
 ],
 "metadata": {
  "kernelspec": {
   "display_name": "ai_env",
   "language": "python",
   "name": "python3"
  },
  "language_info": {
   "codemirror_mode": {
    "name": "ipython",
    "version": 3
   },
   "file_extension": ".py",
   "mimetype": "text/x-python",
   "name": "python",
   "nbconvert_exporter": "python",
   "pygments_lexer": "ipython3",
   "version": "3.10.8"
  }
 },
 "nbformat": 4,
 "nbformat_minor": 2
}
