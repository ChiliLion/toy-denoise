{
 "cells": [
  {
   "cell_type": "code",
   "execution_count": 54,
   "metadata": {},
   "outputs": [],
   "source": [
    "import matplotlib.pyplot as plt\n",
    "import numpy as np\n",
    "import pandas as pd\n",
    "import tensorflow as tf\n",
    "import pickle as pk\n",
    "import os\n",
    "from PIL import Image\n",
    "from sklearn.metrics import accuracy_score, precision_score, recall_score\n",
    "from sklearn.model_selection import train_test_split\n",
    "from keras import layers, losses\n",
    "from keras.datasets import fashion_mnist\n",
    "from keras.models import Model\n",
    "from tensorflow.keras.layers import Dense"
   ]
  },
  {
   "cell_type": "code",
   "execution_count": 73,
   "metadata": {},
   "outputs": [
    {
     "name": "stdout",
     "output_type": "stream",
     "text": [
      "(50000, 3072)\n",
      "(10000, 3072)\n"
     ]
    }
   ],
   "source": [
    "#data loading\n",
    "def unpickle(file):\n",
    "    with open(file, 'rb') as fo:\n",
    "        dict = pk.load(fo, encoding='bytes')\n",
    "    return dict\n",
    "basefolder = os.path.dirname(os.getcwd())\n",
    "datafolder = os.path.join(basefolder, \"dataset\\cifar-10-python\\cifar-10-batches-py\")\n",
    "allfiles = [f for f in os.listdir(datafolder) if f.startswith('data')]\n",
    "traindata = None\n",
    "trainlabels = None\n",
    "#train split\n",
    "\n",
    "for i in allfiles:\n",
    "    alldata = unpickle(os.path.join(datafolder, i))\n",
    "    images = alldata[b'data']\n",
    "    labels = alldata[b'labels']\n",
    "    if(traindata is None):\n",
    "        traindata = images\n",
    "        trainlabels = labels\n",
    "    else:\n",
    "        traindata = np.append(traindata, images, axis=0)\n",
    "        trainlabels.extend(labels)\n",
    "\n",
    "#test split\n",
    "testbatch = unpickle(os.path.join(datafolder, 'test_batch'))\n",
    "testdata = testbatch[b'data']\n",
    "testlabels = testbatch[b'labels']\n",
    "#label conversions\n",
    "labeldict = unpickle(os.path.join(datafolder, 'batches.meta'))\n",
    "labelconversions = labeldict[b'label_names']\n",
    "print(traindata.shape)\n",
    "print(testdata.shape)\n",
    "testdata = testdata.astype(float)/255\n",
    "traindata = traindata.astype(float)/255"
   ]
  },
  {
   "cell_type": "code",
   "execution_count": 89,
   "metadata": {},
   "outputs": [],
   "source": [
    "#display image\n",
    "def displayImage32(imgvec):\n",
    "    red = (imgvec[:1024].reshape((32,32)))*255\n",
    "    green = (imgvec[1024:2048].reshape((32,32)))*255\n",
    "    blue = (imgvec[2048:].reshape((32,32)))*255\n",
    "    imgarr = np.stack((red, green, blue), axis = 2).astype(np.uint8)\n",
    "    img = Image.fromarray(imgarr)\n",
    "    img.show()\n",
    "def numpify(imgvec):\n",
    "    red = (imgvec[:1024].reshape((32,32)))*255\n",
    "    green = (imgvec[1024:2048].reshape((32,32)))*255\n",
    "    blue = (imgvec[2048:].reshape((32,32)))*255\n",
    "    imgarr = np.stack((red, green, blue), axis = 2).astype(np.uint8)\n",
    "    return imgarr"
   ]
  },
  {
   "cell_type": "code",
   "execution_count": 58,
   "metadata": {},
   "outputs": [],
   "source": [
    "autoencoder = tf.keras.Sequential([\n",
    "    # Encoder\n",
    "    Dense(200, activation='relu', input_shape=(3072,)),\n",
    "    Dense(100, activation='relu'),\n",
    "    Dense(50, activation='relu'),\n",
    "\n",
    "    # Decoder\n",
    "    Dense(100, activation='relu'),\n",
    "    Dense(200, activation='relu'),\n",
    "    Dense(3072, activation='sigmoid')  # Sigmoid activation for pixel values between 0 and 1\n",
    "])\n",
    "\n",
    "\n",
    "autoencoder.compile(optimizer='adam', loss='binary_crossentropy')\n"
   ]
  },
  {
   "cell_type": "code",
   "execution_count": 60,
   "metadata": {},
   "outputs": [
    {
     "name": "stdout",
     "output_type": "stream",
     "text": [
      "Epoch 1/10\n",
      "196/196 [==============================] - 6s 26ms/step - loss: 0.6414 - val_loss: 0.6206\n",
      "Epoch 2/10\n",
      "196/196 [==============================] - 5s 23ms/step - loss: 0.6088 - val_loss: 0.6030\n",
      "Epoch 3/10\n",
      "196/196 [==============================] - 5s 25ms/step - loss: 0.6002 - val_loss: 0.5996\n",
      "Epoch 4/10\n",
      "196/196 [==============================] - 5s 25ms/step - loss: 0.5966 - val_loss: 0.5951\n",
      "Epoch 5/10\n",
      "196/196 [==============================] - 5s 25ms/step - loss: 0.5933 - val_loss: 0.5932\n",
      "Epoch 6/10\n",
      "196/196 [==============================] - 5s 25ms/step - loss: 0.5913 - val_loss: 0.5908\n",
      "Epoch 7/10\n",
      "196/196 [==============================] - 5s 24ms/step - loss: 0.5899 - val_loss: 0.5905\n",
      "Epoch 8/10\n",
      "196/196 [==============================] - 5s 24ms/step - loss: 0.5891 - val_loss: 0.5891\n",
      "Epoch 9/10\n",
      "196/196 [==============================] - 5s 23ms/step - loss: 0.5879 - val_loss: 0.5886\n",
      "Epoch 10/10\n",
      "196/196 [==============================] - 5s 24ms/step - loss: 0.5871 - val_loss: 0.5880\n"
     ]
    },
    {
     "data": {
      "text/plain": [
       "<keras.callbacks.History at 0x1f21a7d4160>"
      ]
     },
     "execution_count": 60,
     "metadata": {},
     "output_type": "execute_result"
    }
   ],
   "source": [
    "autoencoder.fit(traindata, traindata, epochs=10, batch_size=256, shuffle=True, validation_data=(testdata, testdata))"
   ]
  },
  {
   "cell_type": "code",
   "execution_count": null,
   "metadata": {},
   "outputs": [],
   "source": [
    "decoded_imgs = autoencoder.predict(testdata)"
   ]
  },
  {
   "cell_type": "code",
   "execution_count": 94,
   "metadata": {},
   "outputs": [
    {
     "name": "stdout",
     "output_type": "stream",
     "text": [
      "(10000, 3072)\n"
     ]
    },
    {
     "data": {
      "text/plain": [
       "Text(0.5, 1.0, 'Original')"
      ]
     },
     "execution_count": 94,
     "metadata": {},
     "output_type": "execute_result"
    },
    {
     "data": {
      "image/png": "[encoded data removed]",
      "text/plain": [
       "<Figure size 1000x500 with 2 Axes>"
      ]
     },
     "metadata": {},
     "output_type": "display_data"
    }
   ],
   "source": [
    "print(decoded_imgs.shape)\n",
    "ind = 1\n",
    "fig = plt.figure(figsize=(10, 5)) \n",
    "rows = 1\n",
    "columns = 2\n",
    "fig.add_subplot(rows, columns, 1)\n",
    "plt.imshow(numpify(decoded_imgs[ind]))\n",
    "plt.axis('off') \n",
    "plt.title(\"Reconstructed\") \n",
    "fig.add_subplot(rows, columns, 2)\n",
    "plt.imshow(numpify(testdata[ind]))\n",
    "plt.axis('off') \n",
    "plt.title(\"Original\") "
   ]
  },
  {
   "cell_type": "code",
   "execution_count": 82,
   "metadata": {},
   "outputs": [],
   "source": [
    "displayImage32(decoded_imgs[1])\n",
    "displayImage32(testdata[1])"
   ]
  }
 ],
 "metadata": {
  "kernelspec": {
   "display_name": "ai_env",
   "language": "python",
   "name": "python3"
  },
  "language_info": {
   "codemirror_mode": {
    "name": "ipython",
    "version": 3
   },
   "file_extension": ".py",
   "mimetype": "text/x-python",
   "name": "python",
   "nbconvert_exporter": "python",
   "pygments_lexer": "ipython3",
   "version": "3.10.8"
  }
 },
 "nbformat": 4,
 "nbformat_minor": 2
}
